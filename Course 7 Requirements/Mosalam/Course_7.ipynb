{
  "cells": [
    {
      "cell_type": "markdown",
      "metadata": {
        "id": "ixemfpJOhs9m"
      },
      "source": [
        "# Course #7 Resilience-Based Engineering: Cyber-Physical Modeling and Machine-Learning Towards Smart Electrical Equipment Systems\n",
        "\n",
        "Summer 2024 Semester<br>\n",
        "Professor Khalid M. Mosalam<br>\n",
        "SSA: Fan Hu<br>\n",
        "Department of Civil and Environmental Engineering<br>\n",
        "University of California, Berkeley<br>"
      ]
    },
    {
      "cell_type": "markdown",
      "metadata": {
        "id": "NeEaKKy5hs9n"
      },
      "source": [
        "Welcome to Course 7: Cyber-Physical Modeling and Machine-Learning Towards Smart Electrical Equipment Systems. This notebook is meant to provide codes for your capstone project. Please read the __instructions__ as well as __comments in the code cells__ carefully.\n",
        "\n",
        "You are required to fill in the sections that are clearly marked with `TODO` and constrained with rows of pound signs (i.e. `#######`). An example code blank is shown in the following cell. Check this document for more details."
      ]
    },
    {
      "cell_type": "code",
      "execution_count": 4,
      "metadata": {
        "colab": {
          "base_uri": "https://localhost:8080/"
        },
        "id": "u4kHHGC5hs9o",
        "outputId": "b1f7d6d5-0660-457b-caba-dadee8ccc4c0"
      },
      "outputs": [
        {
          "name": "stdout",
          "output_type": "stream",
          "text": [
            "Codes to edit/complete.\n"
          ]
        }
      ],
      "source": [
        "# TODO: edit/complete the codes\n",
        "####################################################################################################\n",
        "\n",
        "print(\"Codes to edit/complete.\") # Happy Coding :)\n",
        "\n",
        "####################################################################################################"
      ]
    },
    {
      "cell_type": "markdown",
      "metadata": {
        "id": "577QXkikhs9p"
      },
      "source": [
        "We will be using some common Python libraries to help us process data. By convention, we import all libraries at the very top of the notebook. There are also a set of standard aliases that are used to shorten the library names (e.g., `np` for `numpy`). Run the cell below to import the libraries that you may need for this course project."
      ]
    },
    {
      "cell_type": "code",
      "execution_count": 5,
      "metadata": {
        "colab": {
          "base_uri": "https://localhost:8080/"
        },
        "id": "kogcRimwOvpq",
        "outputId": "40cfbd07-323d-4fc3-f4e7-9091e4cda2c3"
      },
      "outputs": [
        {
          "name": "stdout",
          "output_type": "stream",
          "text": [
            "Requirement already satisfied: tensorflow in c:\\users\\shaheen\\appdata\\local\\programs\\python\\python312\\lib\\site-packages (2.17.0)\n",
            "Requirement already satisfied: tensorflow-intel==2.17.0 in c:\\users\\shaheen\\appdata\\local\\programs\\python\\python312\\lib\\site-packages (from tensorflow) (2.17.0)\n",
            "Requirement already satisfied: absl-py>=1.0.0 in c:\\users\\shaheen\\appdata\\local\\programs\\python\\python312\\lib\\site-packages (from tensorflow-intel==2.17.0->tensorflow) (2.1.0)\n",
            "Requirement already satisfied: astunparse>=1.6.0 in c:\\users\\shaheen\\appdata\\local\\programs\\python\\python312\\lib\\site-packages (from tensorflow-intel==2.17.0->tensorflow) (1.6.3)\n",
            "Requirement already satisfied: flatbuffers>=24.3.25 in c:\\users\\shaheen\\appdata\\local\\programs\\python\\python312\\lib\\site-packages (from tensorflow-intel==2.17.0->tensorflow) (24.3.25)\n",
            "Requirement already satisfied: gast!=0.5.0,!=0.5.1,!=0.5.2,>=0.2.1 in c:\\users\\shaheen\\appdata\\local\\programs\\python\\python312\\lib\\site-packages (from tensorflow-intel==2.17.0->tensorflow) (0.6.0)\n",
            "Requirement already satisfied: google-pasta>=0.1.1 in c:\\users\\shaheen\\appdata\\local\\programs\\python\\python312\\lib\\site-packages (from tensorflow-intel==2.17.0->tensorflow) (0.2.0)\n",
            "Requirement already satisfied: h5py>=3.10.0 in c:\\users\\shaheen\\appdata\\local\\programs\\python\\python312\\lib\\site-packages (from tensorflow-intel==2.17.0->tensorflow) (3.11.0)\n",
            "Requirement already satisfied: libclang>=13.0.0 in c:\\users\\shaheen\\appdata\\local\\programs\\python\\python312\\lib\\site-packages (from tensorflow-intel==2.17.0->tensorflow) (18.1.1)\n",
            "Requirement already satisfied: ml-dtypes<0.5.0,>=0.3.1 in c:\\users\\shaheen\\appdata\\local\\programs\\python\\python312\\lib\\site-packages (from tensorflow-intel==2.17.0->tensorflow) (0.4.0)\n",
            "Requirement already satisfied: opt-einsum>=2.3.2 in c:\\users\\shaheen\\appdata\\local\\programs\\python\\python312\\lib\\site-packages (from tensorflow-intel==2.17.0->tensorflow) (3.3.0)\n",
            "Requirement already satisfied: packaging in c:\\users\\shaheen\\appdata\\roaming\\python\\python312\\site-packages (from tensorflow-intel==2.17.0->tensorflow) (23.2)\n",
            "Requirement already satisfied: protobuf!=4.21.0,!=4.21.1,!=4.21.2,!=4.21.3,!=4.21.4,!=4.21.5,<5.0.0dev,>=3.20.3 in c:\\users\\shaheen\\appdata\\local\\programs\\python\\python312\\lib\\site-packages (from tensorflow-intel==2.17.0->tensorflow) (4.25.4)\n",
            "Requirement already satisfied: requests<3,>=2.21.0 in c:\\users\\shaheen\\appdata\\local\\programs\\python\\python312\\lib\\site-packages (from tensorflow-intel==2.17.0->tensorflow) (2.32.3)\n",
            "Requirement already satisfied: setuptools in c:\\users\\shaheen\\appdata\\local\\programs\\python\\python312\\lib\\site-packages (from tensorflow-intel==2.17.0->tensorflow) (71.0.1)\n",
            "Requirement already satisfied: six>=1.12.0 in c:\\users\\shaheen\\appdata\\roaming\\python\\python312\\site-packages (from tensorflow-intel==2.17.0->tensorflow) (1.16.0)\n",
            "Requirement already satisfied: termcolor>=1.1.0 in c:\\users\\shaheen\\appdata\\local\\programs\\python\\python312\\lib\\site-packages (from tensorflow-intel==2.17.0->tensorflow) (2.4.0)\n",
            "Requirement already satisfied: typing-extensions>=3.6.6 in c:\\users\\shaheen\\appdata\\local\\programs\\python\\python312\\lib\\site-packages (from tensorflow-intel==2.17.0->tensorflow) (4.12.2)\n",
            "Requirement already satisfied: wrapt>=1.11.0 in c:\\users\\shaheen\\appdata\\local\\programs\\python\\python312\\lib\\site-packages (from tensorflow-intel==2.17.0->tensorflow) (1.16.0)\n",
            "Requirement already satisfied: grpcio<2.0,>=1.24.3 in c:\\users\\shaheen\\appdata\\local\\programs\\python\\python312\\lib\\site-packages (from tensorflow-intel==2.17.0->tensorflow) (1.65.1)\n",
            "Requirement already satisfied: tensorboard<2.18,>=2.17 in c:\\users\\shaheen\\appdata\\local\\programs\\python\\python312\\lib\\site-packages (from tensorflow-intel==2.17.0->tensorflow) (2.17.0)\n",
            "Requirement already satisfied: keras>=3.2.0 in c:\\users\\shaheen\\appdata\\local\\programs\\python\\python312\\lib\\site-packages (from tensorflow-intel==2.17.0->tensorflow) (3.4.1)\n",
            "Requirement already satisfied: numpy<2.0.0,>=1.26.0 in c:\\users\\shaheen\\appdata\\local\\programs\\python\\python312\\lib\\site-packages (from tensorflow-intel==2.17.0->tensorflow) (1.26.4)\n",
            "Requirement already satisfied: wheel<1.0,>=0.23.0 in c:\\users\\shaheen\\appdata\\local\\programs\\python\\python312\\lib\\site-packages (from astunparse>=1.6.0->tensorflow-intel==2.17.0->tensorflow) (0.43.0)\n",
            "Requirement already satisfied: rich in c:\\users\\shaheen\\appdata\\local\\programs\\python\\python312\\lib\\site-packages (from keras>=3.2.0->tensorflow-intel==2.17.0->tensorflow) (13.7.1)\n",
            "Requirement already satisfied: namex in c:\\users\\shaheen\\appdata\\local\\programs\\python\\python312\\lib\\site-packages (from keras>=3.2.0->tensorflow-intel==2.17.0->tensorflow) (0.0.8)\n",
            "Requirement already satisfied: optree in c:\\users\\shaheen\\appdata\\local\\programs\\python\\python312\\lib\\site-packages (from keras>=3.2.0->tensorflow-intel==2.17.0->tensorflow) (0.12.1)\n",
            "Requirement already satisfied: charset-normalizer<4,>=2 in c:\\users\\shaheen\\appdata\\local\\programs\\python\\python312\\lib\\site-packages (from requests<3,>=2.21.0->tensorflow-intel==2.17.0->tensorflow) (3.3.2)\n",
            "Requirement already satisfied: idna<4,>=2.5 in c:\\users\\shaheen\\appdata\\local\\programs\\python\\python312\\lib\\site-packages (from requests<3,>=2.21.0->tensorflow-intel==2.17.0->tensorflow) (3.7)\n",
            "Requirement already satisfied: urllib3<3,>=1.21.1 in c:\\users\\shaheen\\appdata\\local\\programs\\python\\python312\\lib\\site-packages (from requests<3,>=2.21.0->tensorflow-intel==2.17.0->tensorflow) (2.2.2)\n",
            "Requirement already satisfied: certifi>=2017.4.17 in c:\\users\\shaheen\\appdata\\local\\programs\\python\\python312\\lib\\site-packages (from requests<3,>=2.21.0->tensorflow-intel==2.17.0->tensorflow) (2024.7.4)\n",
            "Requirement already satisfied: markdown>=2.6.8 in c:\\users\\shaheen\\appdata\\local\\programs\\python\\python312\\lib\\site-packages (from tensorboard<2.18,>=2.17->tensorflow-intel==2.17.0->tensorflow) (3.6)\n",
            "Requirement already satisfied: tensorboard-data-server<0.8.0,>=0.7.0 in c:\\users\\shaheen\\appdata\\local\\programs\\python\\python312\\lib\\site-packages (from tensorboard<2.18,>=2.17->tensorflow-intel==2.17.0->tensorflow) (0.7.2)\n",
            "Requirement already satisfied: werkzeug>=1.0.1 in c:\\users\\shaheen\\appdata\\local\\programs\\python\\python312\\lib\\site-packages (from tensorboard<2.18,>=2.17->tensorflow-intel==2.17.0->tensorflow) (3.0.3)\n",
            "Requirement already satisfied: MarkupSafe>=2.1.1 in c:\\users\\shaheen\\appdata\\local\\programs\\python\\python312\\lib\\site-packages (from werkzeug>=1.0.1->tensorboard<2.18,>=2.17->tensorflow-intel==2.17.0->tensorflow) (2.1.5)\n",
            "Requirement already satisfied: markdown-it-py>=2.2.0 in c:\\users\\shaheen\\appdata\\local\\programs\\python\\python312\\lib\\site-packages (from rich->keras>=3.2.0->tensorflow-intel==2.17.0->tensorflow) (3.0.0)\n",
            "Requirement already satisfied: pygments<3.0.0,>=2.13.0 in c:\\users\\shaheen\\appdata\\roaming\\python\\python312\\site-packages (from rich->keras>=3.2.0->tensorflow-intel==2.17.0->tensorflow) (2.17.2)\n",
            "Requirement already satisfied: mdurl~=0.1 in c:\\users\\shaheen\\appdata\\local\\programs\\python\\python312\\lib\\site-packages (from markdown-it-py>=2.2.0->rich->keras>=3.2.0->tensorflow-intel==2.17.0->tensorflow) (0.1.2)\n"
          ]
        }
      ],
      "source": [
        "!pip install tensorflow"
      ]
    },
    {
      "cell_type": "code",
      "execution_count": 6,
      "metadata": {
        "id": "NUqsEMV4hs9p"
      },
      "outputs": [],
      "source": [
        "import numpy as np\n",
        "import math\n",
        "import matplotlib.pyplot as plt\n",
        "from matplotlib import image\n",
        "import os\n",
        "\n",
        "import tensorflow as tf\n",
        "\n",
        "from tensorflow.keras.layers import * # cannot use the alias 'tf' to import other modules\n",
        "from tensorflow.keras.models import Model\n",
        "from tensorflow.keras.callbacks import *\n",
        "from tensorflow.keras.optimizers import *\n",
        "\n",
        "import warnings\n",
        "warnings.filterwarnings(\"ignore\")"
      ]
    },
    {
      "cell_type": "markdown",
      "metadata": {
        "id": "qNr2LBI1hs9p"
      },
      "source": [
        "### Milestone 1"
      ]
    },
    {
      "cell_type": "markdown",
      "metadata": {
        "id": "WBGtVhEYhs9p"
      },
      "source": [
        "For this part, you are expected to run a simple Finite Element Method (FEM) analysis on a porcelain insulator. Hand derivations of $[K]$ and $\\{P_0\\}$ for the whole structure is required, and this following (optional) chuck of code is to help you with matrix manipulations and output final displacement results. Below code uses $m=5$ (therefore $n=m+1=6$) as an example."
      ]
    },
    {
      "cell_type": "code",
      "execution_count": 7,
      "metadata": {
        "colab": {
          "base_uri": "https://localhost:8080/"
        },
        "id": "r43rIY6lhs9q",
        "outputId": "0f7f52ef-5b86-4cc0-dc91-37565c52f34b"
      },
      "outputs": [
        {
          "name": "stdout",
          "output_type": "stream",
          "text": [
            "[-0.00384    -0.00578286 -0.00687086 -0.0074247  -0.0075847 ]\n"
          ]
        }
      ],
      "source": [
        "pi = math.pi\n",
        "E = 70000\n",
        "A = 17671\n",
        "H = 4000\n",
        "gamma = 3.5e-5\n",
        "d_top = 100\n",
        "d_bottom = 200\n",
        "\n",
        "# TODO: input K (dimenstion: 6x6) and P0 (dimension: 6)\n",
        "# You have two options, 1) formulate the matrices using for-loop (recommended),\n",
        "# OR 2) hand calculate the specific values of the matrices and fill in the blanks\n",
        "# UNCOMMENT either option below.\n",
        "####################################################################################################\n",
        "\n",
        "# OPTION1: for-loop (recommended)\n",
        "\n",
        "m = 5 #Number of elements\n",
        "L_e = H / m  # Length of each element\n",
        "A_top = np.pi * (d_top**2) / 4 #Calculate cross-sectional areas\n",
        "A_bottom = np.pi * (d_bottom**2) / 4 #Calculate cross-sectional areas\n",
        "\n",
        "# Cross-sectional areas for each element (linearly varying)\n",
        "A_e = np.linspace(A_top, A_bottom, m)\n",
        "\n",
        "# Initialize the matrices with zeros\n",
        "K = np.zeros((m+1, m+1))\n",
        "P0 = np.zeros(m+1)\n",
        "\n",
        "# Populate global stiffness matrix and load vector\n",
        "for i in range(m):\n",
        "    # Local stiffness matrix and load vector for element i\n",
        "    ke = (E * A_e[i] / L_e) * np.array([[1, -1], [-1, 1]])\n",
        "    p0e = (gamma * A_e[i] * L_e / 2) * np.array([1, 1])\n",
        "\n",
        "    # Assemble local matrices into global matrices\n",
        "    K[i:i+2, i:i+2] += ke # Add the local stiffness matrix to the global stiffness matrix\n",
        "    P0[i:i+2] += p0e # Add the local load vector to the global load vector\n",
        "\n",
        "    # Apply concentrated load at node n (last node, here set to 0 for simplicity)\n",
        "Pv = 0\n",
        "P0[-1] += Pv\n",
        "\n",
        "# OPTION2: hard-coding\n",
        "# \"\"\"\n",
        "# K = np.array([\n",
        "#     [  ,  ,  ,  ,  ,  ],\n",
        "#     [  ,  ,  ,  ,  ,  ],\n",
        "#     [  ,  ,  ,  ,  ,  ],\n",
        "#     [  ,  ,  ,  ,  ,  ],\n",
        "#     [  ,  ,  ,  ,  ,  ],\n",
        "#     [  ,  ,  ,  ,  ,  ]\n",
        "# ])\n",
        "\n",
        "# P0 = np.array([\n",
        "#     [  ],\n",
        "#     [  ],\n",
        "#     [  ],\n",
        "#     [  ],\n",
        "#     [  ],\n",
        "#     [  ]\n",
        "# ])\n",
        "# \"\"\"\n",
        "####################################################################################################\n",
        "\n",
        "# Handle the boundary condition, see the project description\n",
        "K = K[1:, 1:]\n",
        "P0 = P0[1:]\n",
        "# print(K)\n",
        "# print(P0)\n",
        "\n",
        "# Do the matrix inversion and multiplication to calculate the nodal displacements for node 2-n\n",
        "U = np.dot(np.linalg.inv(K), -P0)\n",
        "print(U)"
      ]
    },
    {
      "cell_type": "code",
      "execution_count": 8,
      "metadata": {
        "colab": {
          "base_uri": "https://localhost:8080/"
        },
        "id": "NhpeU4tYSi5Z",
        "outputId": "2c0828c8-46c3-4ff0-eee2-282e27ed5950"
      },
      "outputs": [
        {
          "name": "stdout",
          "output_type": "stream",
          "text": [
            "[[ 1889864.33067511 -1202640.93770234        0.                0.\n",
            "         0.        ]\n",
            " [-1202640.93770234  2920699.42013426 -1718058.48243192        0.\n",
            "         0.        ]\n",
            " [       0.         -1718058.48243192  3951534.50959341 -2233476.02716149\n",
            "         0.        ]\n",
            " [       0.                0.         -2233476.02716149  4982369.59905256\n",
            "  -2748893.57189107]\n",
            " [       0.                0.                0.         -2748893.57189107\n",
            "   2748893.57189107]]\n"
          ]
        }
      ],
      "source": [
        "print(K)\n",
        "# print(P0)"
      ]
    },
    {
      "cell_type": "code",
      "execution_count": 9,
      "metadata": {
        "colab": {
          "base_uri": "https://localhost:8080/"
        },
        "id": "-xZWYpFfSrk6",
        "outputId": "9851beb6-1b08-455e-b3c8-558d325af449"
      },
      "outputs": [
        {
          "name": "stdout",
          "output_type": "stream",
          "text": [
            "[302.37829291 467.31190722 632.24552153 797.17913585 439.8229715 ]\n"
          ]
        }
      ],
      "source": [
        "print(P0)"
      ]
    },
    {
      "cell_type": "markdown",
      "metadata": {
        "id": "ZE4B3MDAhs9q"
      },
      "source": [
        "### Milestone 2"
      ]
    },
    {
      "cell_type": "markdown",
      "metadata": {
        "id": "OnU_5Szwhs9q"
      },
      "source": [
        "In this part, you are expected to complete the Python implementation of **Newmark's method** on linear systems."
      ]
    },
    {
      "cell_type": "code",
      "execution_count": 10,
      "metadata": {
        "id": "fkkkmxjshs9r"
      },
      "outputs": [],
      "source": [
        "# Two special cases of Newmark's method\n",
        "# (1) Constant Average Acceleration Method\n",
        "# gamma = 1/2\n",
        "# beta = 1/4\n",
        "\n",
        "# (2) Linear Acceleration Method\n",
        "gamma = 1/2\n",
        "beta = 1/6"
      ]
    },
    {
      "cell_type": "code",
      "execution_count": 11,
      "metadata": {
        "id": "8RtaKgaUhs9r"
      },
      "outputs": [],
      "source": [
        "# TODO: Fill in the blanks below to implement Newmark's method\n",
        "####################################################################################################\n",
        "\n",
        "m = 8000                         # kg\n",
        "k = 36.4e6                       # N/m\n",
        "zeta = 0.05                      # damping ratio\n",
        "\n",
        "wn = np.sqrt(k / m)# TODO                      # rad/s\n",
        "Tn = 2 * np.pi / wn# TODO                      # s\n",
        "wd = wn * np.sqrt(1 - zeta**2)# TODO                      # rad/s\n",
        "Td = 2 * np.pi / wd# TODO                      # s\n",
        "\n",
        "c = 2 * zeta * wn * m# TODO                       # N*s/m\n",
        "\n",
        "\n",
        "# Initial conditions\n",
        "u_0 = 0\n",
        "vel_0 = 0\n",
        "\n",
        "delta_t = 0.01 # time intervals\n",
        "duration = 5\n",
        "time_step = int(duration / delta_t)\n",
        "t = np.arange(0, duration + delta_t, delta_t)\n",
        "\n",
        "p = 44500 * np.sin(20 * pi * t) * (t <= 0.6) # loading\n",
        "p_0 = p[0]\n",
        "\n",
        "\n",
        "# Initial calculations\n",
        "acc_0 = (p_0 - k * u_0 - c * vel_0) / m# TODO\n",
        "k_hat = k + beta * delta_t * c + gamma * delta_t**2 * m# TODO\n",
        "\n",
        "a = 1 / (beta * delta_t**2 * m + k_hat)# TODO\n",
        "b = (1 / (beta * delta_t * m)) - (c / (2 * beta * delta_t))# TODO\n",
        "\n",
        "\n",
        "# Calculations for each time step, i\n",
        "acc = [acc_0]\n",
        "vel = [vel_0]\n",
        "u = [u_0]\n",
        "\n",
        "for i in range(0, time_step):\n",
        "    delta_p_i = p[i+1] - p[i]\n",
        "    delta_p_hat_i =  delta_p_i / (beta * delta_t**2)# TODO\n",
        "\n",
        "    delta_u_i =  a * (delta_p_hat_i - k_hat * u[-1] - c * vel[-1] - m * acc[-1]) # TODO\n",
        "    delta_vel_i = b * delta_u_i - delta_t * acc[-1]# TODO\n",
        "    delta_acc_i = a * (delta_p_hat_i - k_hat * delta_u_i - c * delta_vel_i)# TODO\n",
        "\n",
        "    u.append(u[-1] + delta_u_i)\n",
        "    vel.append(vel[-1] + delta_vel_i)\n",
        "    acc.append(acc[-1] + delta_acc_i)\n",
        "\n",
        "assert(len(u) == len(vel) == len(acc) == time_step + 1)\n",
        "\n",
        "####################################################################################################"
      ]
    },
    {
      "cell_type": "code",
      "execution_count": 12,
      "metadata": {
        "colab": {
          "base_uri": "https://localhost:8080/",
          "height": 581
        },
        "id": "Z_McsK9yhs9r",
        "outputId": "3ea2a038-fba6-481f-ccf2-d2962e00fb61"
      },
      "outputs": [
        {
          "name": "stdout",
          "output_type": "stream",
          "text": [
            "Maximum Absolute Displacement: 3.036956702832507e+299 m\n"
          ]
        },
        {
          "data": {
            "image/png": "[encoded data removed]",
            "text/plain": [
              "<Figure size 1000x600 with 1 Axes>"
            ]
          },
          "metadata": {},
          "output_type": "display_data"
        }
      ],
      "source": [
        "# TODO: Post-process the numerical results obtained\n",
        "max_displacement = max(abs(np.array(u)))\n",
        "####################################################################################################\n",
        "print(f\"Maximum Absolute Displacement: {max_displacement} m\")\n",
        "\n",
        "# Plot\n",
        "import matplotlib.pyplot as plt\n",
        "\n",
        "plt.figure(figsize=(10, 6))\n",
        "plt.plot(t, u)\n",
        "plt.title(\"Displacement vs Time\")\n",
        "plt.xlabel(\"Time (s)\")\n",
        "plt.ylabel(\"Displacement (m)\")\n",
        "plt.grid(True)\n",
        "plt.show()\n",
        "####################################################################################################"
      ]
    },
    {
      "cell_type": "markdown",
      "metadata": {
        "id": "kvAXi3G7hs9r"
      },
      "source": [
        "The cell below is provided for students to (optionally) solve the extra credit problem: Python implementation of another time integrator."
      ]
    },
    {
      "cell_type": "code",
      "execution_count": 13,
      "metadata": {
        "id": "pbBTp-Ebhs9r"
      },
      "outputs": [],
      "source": [
        "# TODO: extra credit problem\n",
        "####################################################################################################\n",
        "\n",
        "\n",
        "\n",
        "####################################################################################################"
      ]
    },
    {
      "cell_type": "markdown",
      "metadata": {
        "id": "zkWQge4Nhs9s"
      },
      "source": [
        "### Milestone 4"
      ]
    },
    {
      "cell_type": "markdown",
      "metadata": {
        "id": "GEpPQv9jhs9s"
      },
      "source": [
        "For this part, you will train a Convolutional Neural Networks (CNN) classifier to identify the damages of transmission towers. You are expected to classify between undamaged/damaged states. Package `Keras` is used to train the CNN model, and the official documentation could be found in this [link](https://keras.io/guides/). For the layers and functions used below, you could search their names and find detailed explanations of the usage.\n",
        "\n",
        "Images are loaded as 3-D tensors using the `load_data()` helper function defined below. You will design the CNN architectures by filling in the parameters for the Keras layers. Consequently, the model will be created and trained, and the accuracy for the test set will be reported.\n",
        "\n",
        "You may want to read the comments carefully, and follow the instructions to complete the milestone. Specifically, you should design and fill in the architecture parameters of the classifier by following the comments that are marked with `CHOOSE`."
      ]
    },
    {
      "cell_type": "code",
      "execution_count": 14,
      "metadata": {
        "id": "HGKptKVuhs9s"
      },
      "outputs": [],
      "source": [
        "'''\n",
        "Helper function for DEWA course 7 Milestone 4.\n",
        "\n",
        "load_data() is used to load the images into NumPy arrays, which will be used in CNN classifiers later.\n",
        "\n",
        "'''\n",
        "\n",
        "def load_data(train_28=True):\n",
        "    '''\n",
        "    Load the data for CNN training.\n",
        "    '''\n",
        "\n",
        "    train_data = []\n",
        "    train_label = []\n",
        "    test_data = []\n",
        "    test_label = []\n",
        "\n",
        "    if (train_28):\n",
        "        size = '28'\n",
        "    else:\n",
        "        size = '224'\n",
        "\n",
        "    size_n = int(size)\n",
        "\n",
        "    for file in os.listdir('Datasets/train_' + size + '/D/'):\n",
        "        if (file[-4:] == \".jpg\"):\n",
        "            train_data.append(image.imread('Datasets/train_' + size + '/D/' + file).reshape((size_n, size_n, 1)))\n",
        "            train_label.append([0, 1])\n",
        "    for file in os.listdir('Datasets/train_' + size + '/UD/'):\n",
        "        if (file[-4:] == \".jpg\"):\n",
        "            train_data.append(image.imread('Datasets/train_' + size + '/UD/' + file).reshape((size_n, size_n, 1)))\n",
        "            train_label.append([1, 0])\n",
        "    for file in os.listdir('Datasets/test_' + size + '/D/'):\n",
        "        if (file[-4:] == \".jpg\"):\n",
        "            test_data.append(image.imread('Datasets/test_' + size + '/D/' + file).reshape((size_n, size_n, 1)))\n",
        "            test_label.append([0, 1])\n",
        "    for file in os.listdir('Datasets/test_' + size + '/UD/'):\n",
        "        if (file[-4:] == \".jpg\"):\n",
        "            test_data.append(image.imread('Datasets/test_' + size + '/UD/' + file).reshape((size_n, size_n, 1)))\n",
        "            test_label.append([1, 0])\n",
        "\n",
        "    train_data = np.array(train_data)\n",
        "    train_label = np.array(train_label)\n",
        "    test_data = np.array(test_data)\n",
        "    test_label = np.array(test_label)\n",
        "    return [train_data, train_label, test_data, test_label]"
      ]
    },
    {
      "cell_type": "markdown",
      "metadata": {
        "id": "nU1CaLLuhs9s"
      },
      "source": [
        "Before starting the milestone, checked that you successfully installed packages keras and tensorflow by running the following code. No errors should be reported."
      ]
    },
    {
      "cell_type": "code",
      "execution_count": 15,
      "metadata": {
        "colab": {
          "base_uri": "https://localhost:8080/"
        },
        "id": "LwOkw3yVhs9s",
        "outputId": "de74b8a5-cabf-4d8f-8665-ed304f6e2967"
      },
      "outputs": [
        {
          "name": "stdout",
          "output_type": "stream",
          "text": [
            "TensorFlow version: 2.17.0\n"
          ]
        }
      ],
      "source": [
        "print(\"TensorFlow version:\", tf.__version__)"
      ]
    },
    {
      "cell_type": "markdown",
      "metadata": {
        "id": "h1IDdwkYhs9s"
      },
      "source": [
        "Some prior knowledge about **Batch Normalization**: (from CS182 Spring 2022 @ UC Berkeley)\n",
        "\n",
        "The main idea behind Batch Normalization is to transform every sampled batch of data so that they have $\\mu = 0$, $\\sigma^2 = 1$. Using Batch Normalization typically makes networks significantly more robust to poor initialization. It is based on the intuition that it is better to have unit Gaussian inputs to layers at initialization. However, the reason why batch normalization works is not entirely understood, and there are conflicting views between whether Batch Normalization reduces covariate shift, improves smoothness over the optimization landscape, or other reasons.\n",
        "\n",
        "In practice, when using batch normalization, we add a BatchNorm layer immediately _after_ each FC or convolutional layer, either _before_ or _after_ the non-linearity. The key observation is that normalization is a relatively simple differentiable operation, so we do not add too much additional complexity in the network."
      ]
    },
    {
      "cell_type": "markdown",
      "metadata": {
        "id": "lx3WT67Zhs9s"
      },
      "source": [
        "Next, complete the codes below to train the classifier."
      ]
    },
    {
      "cell_type": "code",
      "execution_count": 16,
      "metadata": {
        "colab": {
          "base_uri": "https://localhost:8080/",
          "height": 332
        },
        "id": "rk1e1zZehs9s",
        "outputId": "2a080465-7492-4d1b-a577-c125ef84781b"
      },
      "outputs": [
        {
          "name": "stdout",
          "output_type": "stream",
          "text": [
            "Epoch 1/20\n",
            "\u001b[1m6/6\u001b[0m \u001b[32m━━━━━━━━━━━━━━━━━━━━\u001b[0m\u001b[37m\u001b[0m \u001b[1m11s\u001b[0m 171ms/step - accuracy: 0.5490 - loss: 1.0994 - learning_rate: 0.0010\n",
            "Epoch 2/20\n",
            "\u001b[1m6/6\u001b[0m \u001b[32m━━━━━━━━━━━━━━━━━━━━\u001b[0m\u001b[37m\u001b[0m \u001b[1m1s\u001b[0m 154ms/step - accuracy: 0.7607 - loss: 0.5381 - learning_rate: 0.0010\n",
            "Epoch 3/20\n",
            "\u001b[1m6/6\u001b[0m \u001b[32m━━━━━━━━━━━━━━━━━━━━\u001b[0m\u001b[37m\u001b[0m \u001b[1m1s\u001b[0m 134ms/step - accuracy: 0.8111 - loss: 0.4224 - learning_rate: 0.0010\n",
            "Epoch 4/20\n",
            "\u001b[1m6/6\u001b[0m \u001b[32m━━━━━━━━━━━━━━━━━━━━\u001b[0m\u001b[37m\u001b[0m \u001b[1m1s\u001b[0m 111ms/step - accuracy: 0.8240 - loss: 0.4042 - learning_rate: 0.0010\n",
            "Epoch 5/20\n",
            "\u001b[1m6/6\u001b[0m \u001b[32m━━━━━━━━━━━━━━━━━━━━\u001b[0m\u001b[37m\u001b[0m \u001b[1m1s\u001b[0m 111ms/step - accuracy: 0.8549 - loss: 0.3505 - learning_rate: 0.0010\n",
            "Epoch 6/20\n",
            "\u001b[1m6/6\u001b[0m \u001b[32m━━━━━━━━━━━━━━━━━━━━\u001b[0m\u001b[37m\u001b[0m \u001b[1m1s\u001b[0m 111ms/step - accuracy: 0.8731 - loss: 0.2910 - learning_rate: 0.0010\n",
            "Epoch 7/20\n",
            "\u001b[1m6/6\u001b[0m \u001b[32m━━━━━━━━━━━━━━━━━━━━\u001b[0m\u001b[37m\u001b[0m \u001b[1m1s\u001b[0m 109ms/step - accuracy: 0.8783 - loss: 0.2799 - learning_rate: 0.0010\n",
            "Epoch 8/20\n",
            "\u001b[1m6/6\u001b[0m \u001b[32m━━━━━━━━━━━━━━━━━━━━\u001b[0m\u001b[37m\u001b[0m \u001b[1m1s\u001b[0m 112ms/step - accuracy: 0.9084 - loss: 0.2486 - learning_rate: 0.0010\n",
            "Epoch 9/20\n",
            "\u001b[1m6/6\u001b[0m \u001b[32m━━━━━━━━━━━━━━━━━━━━\u001b[0m\u001b[37m\u001b[0m \u001b[1m1s\u001b[0m 113ms/step - accuracy: 0.9130 - loss: 0.2449 - learning_rate: 0.0010\n",
            "Epoch 10/20\n",
            "\u001b[1m6/6\u001b[0m \u001b[32m━━━━━━━━━━━━━━━━━━━━\u001b[0m\u001b[37m\u001b[0m \u001b[1m1s\u001b[0m 117ms/step - accuracy: 0.9311 - loss: 0.2036 - learning_rate: 0.0010\n",
            "Epoch 11/20\n",
            "\u001b[1m6/6\u001b[0m \u001b[32m━━━━━━━━━━━━━━━━━━━━\u001b[0m\u001b[37m\u001b[0m \u001b[1m1s\u001b[0m 134ms/step - accuracy: 0.9303 - loss: 0.1844 - learning_rate: 0.0010\n",
            "Epoch 12/20\n",
            "\u001b[1m6/6\u001b[0m \u001b[32m━━━━━━━━━━━━━━━━━━━━\u001b[0m\u001b[37m\u001b[0m \u001b[1m1s\u001b[0m 123ms/step - accuracy: 0.9430 - loss: 0.1584 - learning_rate: 0.0010\n",
            "Epoch 13/20\n",
            "\u001b[1m6/6\u001b[0m \u001b[32m━━━━━━━━━━━━━━━━━━━━\u001b[0m\u001b[37m\u001b[0m \u001b[1m1s\u001b[0m 127ms/step - accuracy: 0.9238 - loss: 0.1930 - learning_rate: 0.0010\n",
            "Epoch 14/20\n",
            "\u001b[1m6/6\u001b[0m \u001b[32m━━━━━━━━━━━━━━━━━━━━\u001b[0m\u001b[37m\u001b[0m \u001b[1m1s\u001b[0m 137ms/step - accuracy: 0.9018 - loss: 0.2213 - learning_rate: 0.0010\n",
            "Epoch 15/20\n",
            "\u001b[1m6/6\u001b[0m \u001b[32m━━━━━━━━━━━━━━━━━━━━\u001b[0m\u001b[37m\u001b[0m \u001b[1m1s\u001b[0m 126ms/step - accuracy: 0.9322 - loss: 0.1928 - learning_rate: 0.0010\n",
            "Epoch 16/20\n",
            "\u001b[1m6/6\u001b[0m \u001b[32m━━━━━━━━━━━━━━━━━━━━\u001b[0m\u001b[37m\u001b[0m \u001b[1m1s\u001b[0m 112ms/step - accuracy: 0.9378 - loss: 0.1574 - learning_rate: 0.0010\n",
            "Epoch 17/20\n",
            "\u001b[1m6/6\u001b[0m \u001b[32m━━━━━━━━━━━━━━━━━━━━\u001b[0m\u001b[37m\u001b[0m \u001b[1m1s\u001b[0m 115ms/step - accuracy: 0.9686 - loss: 0.1192 - learning_rate: 0.0010\n",
            "Epoch 18/20\n",
            "\u001b[1m6/6\u001b[0m \u001b[32m━━━━━━━━━━━━━━━━━━━━\u001b[0m\u001b[37m\u001b[0m \u001b[1m1s\u001b[0m 140ms/step - accuracy: 0.9853 - loss: 0.0950 - learning_rate: 0.0010\n",
            "Epoch 19/20\n",
            "\u001b[1m6/6\u001b[0m \u001b[32m━━━━━━━━━━━━━━━━━━━━\u001b[0m\u001b[37m\u001b[0m \u001b[1m1s\u001b[0m 130ms/step - accuracy: 0.9741 - loss: 0.1166 - learning_rate: 0.0010\n",
            "Epoch 20/20\n",
            "\u001b[1m6/6\u001b[0m \u001b[32m━━━━━━━━━━━━━━━━━━━━\u001b[0m\u001b[37m\u001b[0m \u001b[1m1s\u001b[0m 107ms/step - accuracy: 0.9846 - loss: 0.0909 - learning_rate: 0.0010\n",
            "The test set accuracy is 0.8260869383811951\n"
          ]
        }
      ],
      "source": [
        "from tensorflow.keras.models import Model\n",
        "from tensorflow.keras.layers import Input, Conv2D, BatchNormalization, Activation, MaxPooling2D, Flatten, Dense\n",
        "from tensorflow.keras.optimizers import Adam\n",
        "from tensorflow.keras.callbacks import ReduceLROnPlateau\n",
        "\n",
        "# Load the data\n",
        "X_train, Y_train, X_test, Y_test = load_data(train_28=True)\n",
        "\n",
        "# Specify the model input data shape\n",
        "X_input = Input((X_train.shape[1], X_train.shape[2], 1))\n",
        "\n",
        "\n",
        "# TODO: choose values for the parameters specified in the comment that starts with CHOOSE\n",
        "####################################################################################################\n",
        "\n",
        "# Apply the Convolutional layer to the images\n",
        "# Padding is used to keep the image size same after Convolutional layer\n",
        "# CHOOSE number of filters (filters). Recommended values are between 5 and 100\n",
        "# CHOOSE filter size (kernel_size) in two directions. Recommended values are (3,3), (5,5), (7,7)\n",
        "# Number of filters\n",
        "filters = 64\n",
        "\n",
        "# Filter size (kernel_size) in two directions\n",
        "kernel_size = (3, 3)\n",
        "\n",
        "# Apply the Convolutional layer to the images\n",
        "X = Conv2D(filters=filters, kernel_size=kernel_size, padding=\"same\")(X_input)\n",
        "\n",
        "# Use normalization to improve training performance\n",
        "X = BatchNormalization(axis=3)(X)\n",
        "\n",
        "# CHOOSE an activation function: 'sigmoid', 'relu', 'tanh', etc\n",
        "X = Activation('relu')(X)\n",
        "\n",
        "# CHOOSE pooling Layer: select between MaxPooling2D and AveragePooling2D\n",
        "X = AveragePooling2D(pool_size=(2,2))(X)\n",
        "\n",
        "# Flatten X (i.e. convert the 3-D tensor into a 1-D vector)\n",
        "X = Flatten()(X)\n",
        "\n",
        "# CHOOSE the number of Fully-Connected layers\n",
        "# CHOOSE the number of neurons and an activation function ('sigmoid', 'relu', 'tanh', etc) for each layer\n",
        "# Recommended number of layers is 2, as shown below\n",
        "# The number of neurons for layers could be different,\n",
        "# and it is recommended that later layers have less units\n",
        "X = Dense(units= 128, activation='relu')(X)\n",
        "X = Dense(units= 64, activation='relu')(X)\n",
        "\n",
        "\n",
        "# Final output, Do NOT change the setting in this layer\n",
        "Y_output = Dense(2, activation='softmax')(X)\n",
        "\n",
        "# Create the model. This creates your Keras model instance, you'll use this instance to train/test the model.\n",
        "model = Model(inputs=X_input, outputs=Y_output)\n",
        "\n",
        "# Adam optimizer is used for training the model\n",
        "# CHOOSE learning rate (lr): recommended values are between 1e-6 and 1e-3\n",
        "optimizer = Adam(learning_rate=0.001)\n",
        "\n",
        "# Compile the model\n",
        "model.compile(optimizer=optimizer, loss='binary_crossentropy', metrics=['accuracy'])\n",
        "\n",
        "# Learning rate is reduced when the loss is not decreasing\n",
        "# Used to improve model performance\n",
        "reduce_learning_rate = ReduceLROnPlateau(monitor='loss', factor=0.9, patience=20, verbose=1)\n",
        "\n",
        "# Train the model with training set images\n",
        "# The verbose is turned on, so that students could observe the change of loss and training set accuracy for each epoch\n",
        "# CHOOSE the number of epochs (epochs) and batch size (batch_size)\n",
        "# Number of epochs are recommended to be between 20 and 1000\n",
        "# Batch size should be between 1 and size of training data (362 in our case),\n",
        "# and recommended values are powers of 2 (to improve efficiency in training)\n",
        "model.fit(X_train, Y_train, epochs=20, verbose=True, batch_size=64, callbacks=[reduce_learning_rate])\n",
        "\n",
        "####################################################################################################\n",
        "\n",
        "# Output the test set accuracy by evaluating on the test set\n",
        "print(\"The test set accuracy is {}\".format(model.evaluate(X_test, Y_test, verbose=False)[1]))"
      ]
    },
    {
      "cell_type": "code",
      "execution_count": 17,
      "metadata": {
        "id": "Fm0pqs0xeHR2"
      },
      "outputs": [],
      "source": [
        "# from google.colab import drive\n",
        "# drive.mount('/content/drive')"
      ]
    },
    {
      "cell_type": "markdown",
      "metadata": {
        "id": "X9c7MqINhs9t"
      },
      "source": [
        "Now you have successfully trained a CNN! You may need to change the model architecture to improve the accuracy, or you may work with the larger size images (i.e., train_224, test_224) by using the following block of code. You may copy the parameters above into the block below as the start point to train on the larger dataset."
      ]
    },
    {
      "cell_type": "code",
      "execution_count": 18,
      "metadata": {
        "id": "ZDCQio-Jhs9t"
      },
      "outputs": [
        {
          "name": "stdout",
          "output_type": "stream",
          "text": [
            "Epoch 1/50\n"
          ]
        }
      ],
      "source": [
        "# Load the data\n",
        "X_train, Y_train, X_test, Y_test = load_data(train_28=False)\n",
        "\n",
        "# Specify the model input data shape\n",
        "X_input = Input((X_train.shape[1], X_train.shape[2], 1))\n",
        "\n",
        "\n",
        "# TODO: choose values for the parameters specified in the comment that starts with CHOOSE\n",
        "####################################################################################################\n",
        "\n",
        "# First layer\n",
        "X = Conv2D(filters= 128, kernel_size=(  3  , 3  ), padding=\"same\")(X_input)\n",
        "X = BatchNormalization(axis=3)(X)\n",
        "X = Activation('relu')(X)\n",
        "X = AveragePooling2D(pool_size=(2,2))(X)\n",
        "\n",
        "# Second layer\n",
        "# You could use the same set of parameters as the first layer, or different set of parameters\n",
        "X = Conv2D(filters=  64  , kernel_size=(  3  ,  3  ), padding=\"same\")(X)\n",
        "X = BatchNormalization(axis=3)(X)\n",
        "X = Activation('relu')(X)\n",
        "X = AveragePooling2D(pool_size=(2,2))(X)\n",
        "\n",
        "# You can also add the third or more layers\n",
        "\n",
        "# Flatten X (i.e. convert the 3-D tensor into a vector)\n",
        "X = Flatten()(X)\n",
        "\n",
        "# CHOOSE the number of Fully-Connected layers\n",
        "# CHOOSE the number of neurons and an activation function ('sigmoid', 'relu', 'tanh', etc) for each layer\n",
        "# Recommended number of layers is 2, as shown below\n",
        "# The number of neurons for layers could be different,\n",
        "# and it is recommended that later layers has less units\n",
        "X = Dense(units= 64, activation='relu')(X)\n",
        "X = Dense(units= 32, activation='relu')(X)\n",
        "\n",
        "# Final output, Do NOT change the setting in this layer\n",
        "Y_output = Dense(2, activation='softmax')(X)\n",
        "\n",
        "# Create the model. This creates your Keras model instance, you'll use this instance to train/test the model.\n",
        "model = Model(inputs=X_input, outputs=Y_output)\n",
        "\n",
        "# Adam optimizer is used for training the model\n",
        "# CHOOSE learning rate (lr): recommended values are between 1e-6 and 1e-3\n",
        "optimizer = Adam(learning_rate=0.001)\n",
        "\n",
        "# Compile the model\n",
        "model.compile(optimizer=optimizer, loss='binary_crossentropy', metrics=['accuracy'])\n",
        "\n",
        "# Learning rate is reduced when the loss is not decreasing\n",
        "# Used to improve model performance\n",
        "reduce_learning_rate = ReduceLROnPlateau(monitor='loss', factor=0.9, patience=20, verbose=1)\n",
        "\n",
        "# Train the model with training set images\n",
        "# The verbose is turned on, so that students could observe the change of loss and training set accuracy for each epoch\n",
        "# CHOOSE the number of epochs (epochs) and batch size (batch_size)\n",
        "# Number of epochs are recommended to be between 20 and 1000\n",
        "# Batch size should be between 1 and size of training data (362 in our case),\n",
        "# and recommended values are powers of 2 (to improve efficiency in training)\n",
        "model.fit(X_train, Y_train, epochs=50, verbose=True, batch_size=64, callbacks=[reduce_learning_rate])\n",
        "\n",
        "####################################################################################################\n",
        "\n",
        "# Output the test set accuracy by evaluating on the test set\n",
        "print(\"The test set accuracy is {}\".format(model.evaluate(X_test, Y_test, verbose=False)[1]))"
      ]
    },
    {
      "cell_type": "markdown",
      "metadata": {
        "id": "son9GAXChs9t"
      },
      "source": [
        "The cell below is provided for students to (optionally) solve the extra credit problem: Classification using your own datasets."
      ]
    },
    {
      "cell_type": "code",
      "execution_count": null,
      "metadata": {
        "id": "yWNfeMjOhs9t"
      },
      "outputs": [],
      "source": [
        "# TODO: extra credit problem\n",
        "####################################################################################################\n",
        "\n",
        "\n",
        "\n",
        "####################################################################################################"
      ]
    },
    {
      "cell_type": "markdown",
      "metadata": {
        "id": "mrli4C0Dhs9t"
      },
      "source": [
        "That's it for this milestone! You will need to submit this Jupyter Notebook with the report on Gradescope. Congrats for completing this course! :)"
      ]
    }
  ],
  "metadata": {
    "colab": {
      "provenance": []
    },
    "kernelspec": {
      "display_name": "Python 3 (ipykernel)",
      "language": "python",
      "name": "python3"
    },
    "language_info": {
      "codemirror_mode": {
        "name": "ipython",
        "version": 3
      },
      "file_extension": ".py",
      "mimetype": "text/x-python",
      "name": "python",
      "nbconvert_exporter": "python",
      "pygments_lexer": "ipython3",
      "version": "3.12.4"
    }
  },
  "nbformat": 4,
  "nbformat_minor": 0
}
